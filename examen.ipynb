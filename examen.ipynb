{
  "nbformat": 4,
  "nbformat_minor": 0,
  "metadata": {
    "colab": {
      "name": "examen.ipynb",
      "provenance": [],
      "authorship_tag": "ABX9TyMTV/fj7BuYAqKB1t5twAll",
      "include_colab_link": true
    },
    "kernelspec": {
      "name": "python3",
      "display_name": "Python 3"
    },
    "language_info": {
      "name": "python"
    }
  },
  "cells": [
    {
      "cell_type": "markdown",
      "metadata": {
        "id": "view-in-github",
        "colab_type": "text"
      },
      "source": [
        "<a href=\"https://colab.research.google.com/github/samael34/Primer_Examen_Parcial_Sabatinos/blob/main/examen.ipynb\" target=\"_parent\"><img src=\"https://colab.research.google.com/assets/colab-badge.svg\" alt=\"Open In Colab\"/></a>"
      ]
    },
    {
      "cell_type": "code",
      "execution_count": 1,
      "metadata": {
        "colab": {
          "base_uri": "https://localhost:8080/"
        },
        "id": "Z63akqs_XxJO",
        "outputId": "ff5493f3-82cb-40a3-ab2a-6106128bca84"
      },
      "outputs": [
        {
          "output_type": "stream",
          "name": "stdout",
          "text": [
            "Elija un numero: 154\n",
            "La suma es :  11935\n"
          ]
        }
      ],
      "source": [
        "numero_elegido = int(input(\"Elija un numero: \"))\n",
        "sumatoria = 0\n",
        "for numero in range(numero_elegido):\n",
        "    sumatoria = sumatoria + (numero + 1)\n",
        "\n",
        "\n",
        "print(\"La suma es : \",sumatoria)\n"
      ]
    }
  ]
}